{
 "cells": [
  {
   "cell_type": "markdown",
   "metadata": {},
   "source": [
    "# Unsupervised Learning with Vox Politics\n",
    "\n",
    "For this capstone I am going to cluster authors just by looking at the articles they have written. For this task I found a data set that contains many articles from the news website Vox. You can see the data set for yourself here: [Vox Articles on data.world](https://data.world/elenadata/vox-articles). Using only the main body text of these articles, I would like to create a model that tries to predict the authors of each article. For this to be more challenging, I will also only use articles that have been categorized as \"Politics & Policy\" so that the contents are generally similar. Through this project I will show my ability to use unsupervised and supervised algorithms, while also unpackaging what their outputs can tell us. Through this I will explore the benefits and challenges you encounter with each method.\n",
    "\n",
    "Since I have already proven my abilities with supervised learning [in my supervised learning capstone where I perform sentiment analysis on Amazon reviews](https://github.com/TheGregArayaSet/Sentiment-Analysis-on-Amazon-Reviews), I would like to focus on unsupervised learning methods to create groups first. I'll start off using the common K-Means algorithm, followed by Spectral Clustering, and then Mean-Shift. Afterwards, I will also run a Support Vector Classification model to compare against. Since we are aware ahead of time how many authors we are trying to predict, the SVC will probably perform somewhat better in terms of predicting the authors outright, but I'm hoping that we can also show an interesting relationship between authors through the combination of all of these models' output information. So, let's begin by importing all the necessary modules and taking a look at our data."
   ]
  },
  {
   "cell_type": "code",
   "execution_count": 87,
   "metadata": {},
   "outputs": [],
   "source": [
    "import numpy as np\n",
    "import pandas as pd\n",
    "import scipy\n",
    "import matplotlib.pyplot as plt\n",
    "%matplotlib inline\n",
    "\n",
    "# Modules for making the model\n",
    "from sklearn.pipeline import Pipeline\n",
    "from sklearn.feature_extraction.text import TfidfVectorizer\n",
    "from sklearn.model_selection import train_test_split\n",
    "\n",
    "# Data cleaning and feature importance\n",
    "from bs4 import BeautifulSoup\n",
    "from sklearn.preprocessing import StandardScaler\n",
    "from sklearn.preprocessing import normalize\n",
    "from sklearn.feature_selection import SelectKBest, chi2, f_classif\n",
    "from sklearn.model_selection import RandomizedSearchCV\n",
    "\n",
    "# K-Means module\n",
    "from sklearn.cluster import KMeans\n",
    "\n",
    "# Spectral Clustering module\n",
    "from sklearn.cluster import SpectralClustering\n",
    "\n",
    "# Mean Shift modules\n",
    "from sklearn.cluster import MeanShift, estimate_bandwidth\n",
    "from sklearn.preprocessing import FunctionTransformer\n",
    "\n",
    "# Metrics to evaluate models\n",
    "import time\n",
    "from sklearn import metrics\n",
    "from sklearn.metrics import pairwise_distances\n",
    "from scipy.spatial.distance import cdist\n",
    "from sklearn.metrics import classification_report\n",
    "\n",
    "# Support Vector Classification\n",
    "from sklearn.svm import LinearSVC\n",
    "import warnings"
   ]
  },
  {
   "cell_type": "markdown",
   "metadata": {},
   "source": [
    "Now that we have all the modules we'll be using, lets take a look at the data from Vox."
   ]
  },
  {
   "cell_type": "code",
   "execution_count": 2,
   "metadata": {
    "scrolled": false
   },
   "outputs": [
    {
     "data": {
      "text/html": [
       "<div>\n",
       "<style scoped>\n",
       "    .dataframe tbody tr th:only-of-type {\n",
       "        vertical-align: middle;\n",
       "    }\n",
       "\n",
       "    .dataframe tbody tr th {\n",
       "        vertical-align: top;\n",
       "    }\n",
       "\n",
       "    .dataframe thead th {\n",
       "        text-align: right;\n",
       "    }\n",
       "</style>\n",
       "<table border=\"1\" class=\"dataframe\">\n",
       "  <thead>\n",
       "    <tr style=\"text-align: right;\">\n",
       "      <th></th>\n",
       "      <th>title</th>\n",
       "      <th>author</th>\n",
       "      <th>category</th>\n",
       "      <th>published_date</th>\n",
       "      <th>updated_on</th>\n",
       "      <th>slug</th>\n",
       "      <th>blurb</th>\n",
       "      <th>body</th>\n",
       "    </tr>\n",
       "  </thead>\n",
       "  <tbody>\n",
       "    <tr>\n",
       "      <th>0</th>\n",
       "      <td>Bitcoin is down 60 percent this year. Here's w...</td>\n",
       "      <td>Timothy B. Lee</td>\n",
       "      <td>Business &amp; Finance</td>\n",
       "      <td>2014-03-31 14:01:30</td>\n",
       "      <td>2014-12-16 16:37:36</td>\n",
       "      <td>http://www.vox.com/2014/3/31/5557170/bitcoin-b...</td>\n",
       "      <td>Bitcoins have lost more than 60 percent of the...</td>\n",
       "      <td>&lt;p&gt;The markets haven't been kind to&lt;span&gt; &lt;/sp...</td>\n",
       "    </tr>\n",
       "    <tr>\n",
       "      <th>1</th>\n",
       "      <td>6 health problems marijuana could treat better...</td>\n",
       "      <td>German Lopez</td>\n",
       "      <td>War on Drugs</td>\n",
       "      <td>2014-03-31 15:44:21</td>\n",
       "      <td>2014-11-17 00:20:33</td>\n",
       "      <td>http://www.vox.com/2014/3/31/5557700/six-probl...</td>\n",
       "      <td>Medical marijuana could fill gaps that current...</td>\n",
       "      <td>&lt;p&gt;Twenty states have so far legalized the med...</td>\n",
       "    </tr>\n",
       "    <tr>\n",
       "      <th>2</th>\n",
       "      <td>9 charts that explain the history of global we...</td>\n",
       "      <td>Matthew Yglesias</td>\n",
       "      <td>Business &amp; Finance</td>\n",
       "      <td>2014-04-10 13:30:01</td>\n",
       "      <td>2014-12-16 15:47:02</td>\n",
       "      <td>http://www.vox.com/2014/4/10/5561608/9-charts-...</td>\n",
       "      <td>These nine charts from Thomas Piketty's new bo...</td>\n",
       "      <td>&lt;p&gt;Thomas Piketty's book &lt;i&gt;Capital in the 21s...</td>\n",
       "    </tr>\n",
       "    <tr>\n",
       "      <th>3</th>\n",
       "      <td>Remember when legal marijuana was going to sen...</td>\n",
       "      <td>German Lopez</td>\n",
       "      <td>Criminal Justice</td>\n",
       "      <td>2014-04-03 23:25:55</td>\n",
       "      <td>2014-05-06 21:58:42</td>\n",
       "      <td>http://www.vox.com/2014/4/3/5563134/marijuana-...</td>\n",
       "      <td>Three months after legalizing marijuana, Denve...</td>\n",
       "      <td>&lt;p&gt;&lt;span&gt;When Colorado legalized recreational ...</td>\n",
       "    </tr>\n",
       "    <tr>\n",
       "      <th>4</th>\n",
       "      <td>Obamacare succeeded for one simple reason: it'...</td>\n",
       "      <td>Sarah Kliff</td>\n",
       "      <td>Health Care</td>\n",
       "      <td>2014-04-01 20:26:14</td>\n",
       "      <td>2014-11-18 15:09:14</td>\n",
       "      <td>http://www.vox.com/2014/4/1/5570780/the-two-re...</td>\n",
       "      <td>After a catastrophic launch, Obamacare still s...</td>\n",
       "      <td>&lt;p&gt;There's a very simple reason that Obamacare...</td>\n",
       "    </tr>\n",
       "  </tbody>\n",
       "</table>\n",
       "</div>"
      ],
      "text/plain": [
       "                                               title            author  \\\n",
       "0  Bitcoin is down 60 percent this year. Here's w...    Timothy B. Lee   \n",
       "1  6 health problems marijuana could treat better...      German Lopez   \n",
       "2  9 charts that explain the history of global we...  Matthew Yglesias   \n",
       "3  Remember when legal marijuana was going to sen...      German Lopez   \n",
       "4  Obamacare succeeded for one simple reason: it'...       Sarah Kliff   \n",
       "\n",
       "             category       published_date           updated_on  \\\n",
       "0  Business & Finance  2014-03-31 14:01:30  2014-12-16 16:37:36   \n",
       "1        War on Drugs  2014-03-31 15:44:21  2014-11-17 00:20:33   \n",
       "2  Business & Finance  2014-04-10 13:30:01  2014-12-16 15:47:02   \n",
       "3    Criminal Justice  2014-04-03 23:25:55  2014-05-06 21:58:42   \n",
       "4         Health Care  2014-04-01 20:26:14  2014-11-18 15:09:14   \n",
       "\n",
       "                                                slug  \\\n",
       "0  http://www.vox.com/2014/3/31/5557170/bitcoin-b...   \n",
       "1  http://www.vox.com/2014/3/31/5557700/six-probl...   \n",
       "2  http://www.vox.com/2014/4/10/5561608/9-charts-...   \n",
       "3  http://www.vox.com/2014/4/3/5563134/marijuana-...   \n",
       "4  http://www.vox.com/2014/4/1/5570780/the-two-re...   \n",
       "\n",
       "                                               blurb  \\\n",
       "0  Bitcoins have lost more than 60 percent of the...   \n",
       "1  Medical marijuana could fill gaps that current...   \n",
       "2  These nine charts from Thomas Piketty's new bo...   \n",
       "3  Three months after legalizing marijuana, Denve...   \n",
       "4  After a catastrophic launch, Obamacare still s...   \n",
       "\n",
       "                                                body  \n",
       "0  <p>The markets haven't been kind to<span> </sp...  \n",
       "1  <p>Twenty states have so far legalized the med...  \n",
       "2  <p>Thomas Piketty's book <i>Capital in the 21s...  \n",
       "3  <p><span>When Colorado legalized recreational ...  \n",
       "4  <p>There's a very simple reason that Obamacare...  "
      ]
     },
     "execution_count": 2,
     "metadata": {},
     "output_type": "execute_result"
    }
   ],
   "source": [
    "# Read in the full TSV file\n",
    "raw_df = pd.read_csv('dsjVoxArticles.tsv', sep='\\t', header=0)\n",
    "\n",
    "# Take a look at it\n",
    "raw_df.head()"
   ]
  },
  {
   "cell_type": "markdown",
   "metadata": {},
   "source": [
    "Looks like we have some good information here. The title, the author, what the category of the article is, as well as a summary and the full body of the text (with some html code throughout it). This will certainly meet my basic requirements. Let's find the top 10 authors in the Politics & Policy category and put them in their own dataframe to build our models off of."
   ]
  },
  {
   "cell_type": "code",
   "execution_count": 3,
   "metadata": {
    "scrolled": false
   },
   "outputs": [
    {
     "data": {
      "image/png": "[encoded data removed]",
      "text/plain": [
       "<Figure size 864x432 with 1 Axes>"
      ]
     },
     "metadata": {
      "needs_background": "light"
     },
     "output_type": "display_data"
    },
    {
     "name": "stdout",
     "output_type": "stream",
     "text": [
      "\n",
      " Total number of articles by the top 10: 1185\n"
     ]
    }
   ],
   "source": [
    "# Take just the politics and policy articles\n",
    "main_df = raw_df[raw_df['category'] == 'Politics & Policy']\n",
    "\n",
    "# Take the top ten authors from that list and their article counts\n",
    "top10 = main_df.author.value_counts()[:10]\n",
    "\n",
    "# Plot the top ten on a bar graph\n",
    "plt.figure(figsize = (12,6))\n",
    "plt.bar(top10.index, height=top10.values, align='center', color=['blue', 'red'])\n",
    "plt.xticks(rotation='vertical')\n",
    "plt.title(\"Top 10 Politics & Policy Authors\")\n",
    "plt.ylabel('# of Articles Written')\n",
    "plt.show()\n",
    "\n",
    "print('\\n', \"Total number of articles by the top 10:\", top10.sum())"
   ]
  },
  {
   "cell_type": "markdown",
   "metadata": {},
   "source": [
    "Now we can make a dataframe with just our top 10 authors, and the main body of their articles. We'll also have to clean the text of all the html code that was picked up when the data was scraped."
   ]
  },
  {
   "cell_type": "code",
   "execution_count": 4,
   "metadata": {
    "scrolled": true
   },
   "outputs": [
    {
     "data": {
      "text/html": [
       "<div>\n",
       "<style scoped>\n",
       "    .dataframe tbody tr th:only-of-type {\n",
       "        vertical-align: middle;\n",
       "    }\n",
       "\n",
       "    .dataframe tbody tr th {\n",
       "        vertical-align: top;\n",
       "    }\n",
       "\n",
       "    .dataframe thead th {\n",
       "        text-align: right;\n",
       "    }\n",
       "</style>\n",
       "<table border=\"1\" class=\"dataframe\">\n",
       "  <thead>\n",
       "    <tr style=\"text-align: right;\">\n",
       "      <th></th>\n",
       "      <th>author</th>\n",
       "      <th>body</th>\n",
       "    </tr>\n",
       "  </thead>\n",
       "  <tbody>\n",
       "    <tr>\n",
       "      <th>21</th>\n",
       "      <td>Matthew Yglesias</td>\n",
       "      <td>Patricia Arquette's speech about the gender pa...</td>\n",
       "    </tr>\n",
       "    <tr>\n",
       "      <th>53</th>\n",
       "      <td>Andrew Prokop</td>\n",
       "      <td>Who really matters in our democracy — the gene...</td>\n",
       "    </tr>\n",
       "    <tr>\n",
       "      <th>141</th>\n",
       "      <td>Andrew Prokop</td>\n",
       "      <td>We've written about gerrymandering here on Vox...</td>\n",
       "    </tr>\n",
       "    <tr>\n",
       "      <th>193</th>\n",
       "      <td>Ezra Klein</td>\n",
       "      <td>Presidents consistently overpromise and underd...</td>\n",
       "    </tr>\n",
       "    <tr>\n",
       "      <th>209</th>\n",
       "      <td>Dylan Matthews</td>\n",
       "      <td>Let's imagine Daniel and Henry are vacationing...</td>\n",
       "    </tr>\n",
       "  </tbody>\n",
       "</table>\n",
       "</div>"
      ],
      "text/plain": [
       "               author                                               body\n",
       "21   Matthew Yglesias  Patricia Arquette's speech about the gender pa...\n",
       "53      Andrew Prokop  Who really matters in our democracy — the gene...\n",
       "141     Andrew Prokop  We've written about gerrymandering here on Vox...\n",
       "193        Ezra Klein  Presidents consistently overpromise and underd...\n",
       "209    Dylan Matthews  Let's imagine Daniel and Henry are vacationing..."
      ]
     },
     "execution_count": 4,
     "metadata": {},
     "output_type": "execute_result"
    }
   ],
   "source": [
    "# Make a list from the names of the top 10 and take their works for a new dataframe\n",
    "t10_list = top10.keys()\n",
    "\n",
    "top10_df = main_df[main_df['author'].isin(t10_list)].copy()\n",
    "\n",
    "# Take all of the html coding out of the \"body\" column using beautiful soup\n",
    "top10_df['body'] = [BeautifulSoup(body).get_text() for body in top10_df['body']]\n",
    "\n",
    "# Drop the columns I won't need\n",
    "top10_df = top10_df[['author', 'body']]\n",
    "\n",
    "# Take a look at it\n",
    "top10_df.head()"
   ]
  },
  {
   "cell_type": "markdown",
   "metadata": {},
   "source": [
    "Since our first two models require uniform sizes of clusters, we will just take the first 61 articles from each of these authors. This still leaves us with 610 total articles, so that should hopefully serve our purposes."
   ]
  },
  {
   "cell_type": "code",
   "execution_count": 5,
   "metadata": {},
   "outputs": [],
   "source": [
    "# Group by author, take 61 values, drop any that we don't need and reset the index, then copy it so we don't get warnings\n",
    "top10_unif_df = top10_df.groupby(['author']).head(61).reset_index(drop=True).copy()"
   ]
  },
  {
   "cell_type": "markdown",
   "metadata": {},
   "source": [
    "Now let's make sure we aren't missing any fields before we dive into the models."
   ]
  },
  {
   "cell_type": "code",
   "execution_count": 6,
   "metadata": {},
   "outputs": [
    {
     "name": "stdout",
     "output_type": "stream",
     "text": [
      "<class 'pandas.core.frame.DataFrame'>\n",
      "Int64Index: 610 entries, 21 to 10650\n",
      "Data columns (total 2 columns):\n",
      "author    610 non-null object\n",
      "body      610 non-null object\n",
      "dtypes: object(2)\n",
      "memory usage: 14.3+ KB\n"
     ]
    }
   ],
   "source": [
    "# Make sure we aren't missing any fields\n",
    "top10_unif_df.info()"
   ]
  },
  {
   "cell_type": "markdown",
   "metadata": {},
   "source": [
    "Now that we're certain our data is ready to use, we can create our variables. Following that we can start building and testing out our models."
   ]
  },
  {
   "cell_type": "code",
   "execution_count": 67,
   "metadata": {
    "scrolled": true
   },
   "outputs": [],
   "source": [
    "# Assign our feature column\n",
    "X = top10_unif_df.body\n",
    "\n",
    "# Assign our target column\n",
    "Y = top10_unif_df.author"
   ]
  },
  {
   "cell_type": "markdown",
   "metadata": {},
   "source": [
    "## K-Means Model\n",
    "\n",
    "Since we know there are 10 authors, and this model requires an input number of clusters, this is a logical model to start with. It also tends to run quickly and that will be helpful as we test our ideas. For this initial run I tried a variety of combinations for a few of the arguments within the functions. I chose to use an ngram_range of 2 for the TfidfVectorizer so that it would look at combinations of two words along with just the words themselves (for example it would count up the number of times \"not\", \"great\", and \"not great\" are all found). I tried using larger n_gram ranges, but they didn't improve performance very much and greatly increased time to run. I also told this vectorizer to get rid of useless stop words in the English language, such as \"the\", \"for\", \"and\", etc. For the \"n_init\" argument, which tells the K-Means function the number of times the algorithm should be run with different centroid seeds, I tried a range of #s from 10 to 100 and found 60 performed the best. I also gave K-Means 10 clusters in \"n_clusters\" so that we could hopefully find our 10 authors accurately."
   ]
  },
  {
   "cell_type": "code",
   "execution_count": 61,
   "metadata": {},
   "outputs": [],
   "source": [
    "# Start a timer\n",
    "km_start = time.time()\n",
    "\n",
    "# Instantiate our vectorizer, include bi-grams, and exclude useless stop words\n",
    "km_vectorizer = TfidfVectorizer(ngram_range=(1, 2), stop_words='english')\n",
    "\n",
    "# Extract features from our dataset\n",
    "X_km = km_vectorizer.fit_transform(X)\n",
    "\n",
    "# Split our data up into 25/75 for training and testing\n",
    "X_train, X_test, y_train, y_test = train_test_split(X_km, Y, test_size=0.25, random_state = 42)\n",
    "\n",
    "# Instantiate our clustering method\n",
    "kmeans = KMeans(n_clusters = 10, n_init = 60)\n",
    "\n",
    "# Fit the data\n",
    "kmeans_model = kmeans.fit(X_train, y_train)"
   ]
  },
  {
   "cell_type": "code",
   "execution_count": 62,
   "metadata": {},
   "outputs": [
    {
     "name": "stdout",
     "output_type": "stream",
     "text": [
      "Adjusted Rand Index score: 0.1290285433918623\n",
      "The K-Means model took 608.6585247516632 seconds\n"
     ]
    }
   ],
   "source": [
    "# Make predictions\n",
    "kmeans_pred = kmeans_model.fit_predict(X_test, y_test)\n",
    "\n",
    "# See how well it did\n",
    "print(\"Adjusted Rand Index score:\", metrics.adjusted_rand_score(y_test, kmeans_pred))\n",
    "print(\"The K-Means model took\", time.time() - km_start, \"seconds\")"
   ]
  },
  {
   "cell_type": "markdown",
   "metadata": {},
   "source": [
    "Since the Adjusted Rand Index score is closer to zero than it is to 1, it looks like this model is close to predicting at random. That's no good! I wonder what the clusters look like, let's look at a contingency table."
   ]
  },
  {
   "cell_type": "code",
   "execution_count": 63,
   "metadata": {},
   "outputs": [
    {
     "data": {
      "text/html": [
       "<div>\n",
       "<style scoped>\n",
       "    .dataframe tbody tr th:only-of-type {\n",
       "        vertical-align: middle;\n",
       "    }\n",
       "\n",
       "    .dataframe tbody tr th {\n",
       "        vertical-align: top;\n",
       "    }\n",
       "\n",
       "    .dataframe thead th {\n",
       "        text-align: right;\n",
       "    }\n",
       "</style>\n",
       "<table border=\"1\" class=\"dataframe\">\n",
       "  <thead>\n",
       "    <tr style=\"text-align: right;\">\n",
       "      <th>col_0</th>\n",
       "      <th>0</th>\n",
       "      <th>1</th>\n",
       "      <th>2</th>\n",
       "      <th>3</th>\n",
       "      <th>4</th>\n",
       "      <th>5</th>\n",
       "      <th>6</th>\n",
       "      <th>7</th>\n",
       "      <th>8</th>\n",
       "      <th>9</th>\n",
       "    </tr>\n",
       "    <tr>\n",
       "      <th>author</th>\n",
       "      <th></th>\n",
       "      <th></th>\n",
       "      <th></th>\n",
       "      <th></th>\n",
       "      <th></th>\n",
       "      <th></th>\n",
       "      <th></th>\n",
       "      <th></th>\n",
       "      <th></th>\n",
       "      <th></th>\n",
       "    </tr>\n",
       "  </thead>\n",
       "  <tbody>\n",
       "    <tr>\n",
       "      <th>Andrew Prokop</th>\n",
       "      <td>0</td>\n",
       "      <td>0</td>\n",
       "      <td>1</td>\n",
       "      <td>10</td>\n",
       "      <td>1</td>\n",
       "      <td>1</td>\n",
       "      <td>4</td>\n",
       "      <td>1</td>\n",
       "      <td>0</td>\n",
       "      <td>18</td>\n",
       "    </tr>\n",
       "    <tr>\n",
       "      <th>Dara Lind</th>\n",
       "      <td>0</td>\n",
       "      <td>0</td>\n",
       "      <td>1</td>\n",
       "      <td>14</td>\n",
       "      <td>0</td>\n",
       "      <td>5</td>\n",
       "      <td>2</td>\n",
       "      <td>1</td>\n",
       "      <td>0</td>\n",
       "      <td>4</td>\n",
       "    </tr>\n",
       "    <tr>\n",
       "      <th>Dylan Matthews</th>\n",
       "      <td>2</td>\n",
       "      <td>1</td>\n",
       "      <td>2</td>\n",
       "      <td>2</td>\n",
       "      <td>2</td>\n",
       "      <td>1</td>\n",
       "      <td>1</td>\n",
       "      <td>1</td>\n",
       "      <td>0</td>\n",
       "      <td>11</td>\n",
       "    </tr>\n",
       "    <tr>\n",
       "      <th>Ezra Klein</th>\n",
       "      <td>0</td>\n",
       "      <td>0</td>\n",
       "      <td>1</td>\n",
       "      <td>1</td>\n",
       "      <td>7</td>\n",
       "      <td>0</td>\n",
       "      <td>0</td>\n",
       "      <td>4</td>\n",
       "      <td>0</td>\n",
       "      <td>3</td>\n",
       "    </tr>\n",
       "    <tr>\n",
       "      <th>German Lopez</th>\n",
       "      <td>3</td>\n",
       "      <td>0</td>\n",
       "      <td>2</td>\n",
       "      <td>0</td>\n",
       "      <td>14</td>\n",
       "      <td>0</td>\n",
       "      <td>8</td>\n",
       "      <td>0</td>\n",
       "      <td>5</td>\n",
       "      <td>8</td>\n",
       "    </tr>\n",
       "    <tr>\n",
       "      <th>Jonathan Allen</th>\n",
       "      <td>1</td>\n",
       "      <td>1</td>\n",
       "      <td>1</td>\n",
       "      <td>1</td>\n",
       "      <td>1</td>\n",
       "      <td>0</td>\n",
       "      <td>0</td>\n",
       "      <td>0</td>\n",
       "      <td>0</td>\n",
       "      <td>15</td>\n",
       "    </tr>\n",
       "    <tr>\n",
       "      <th>Libby Nelson</th>\n",
       "      <td>1</td>\n",
       "      <td>11</td>\n",
       "      <td>1</td>\n",
       "      <td>0</td>\n",
       "      <td>6</td>\n",
       "      <td>0</td>\n",
       "      <td>1</td>\n",
       "      <td>0</td>\n",
       "      <td>0</td>\n",
       "      <td>5</td>\n",
       "    </tr>\n",
       "    <tr>\n",
       "      <th>Matthew Yglesias</th>\n",
       "      <td>1</td>\n",
       "      <td>0</td>\n",
       "      <td>11</td>\n",
       "      <td>6</td>\n",
       "      <td>7</td>\n",
       "      <td>1</td>\n",
       "      <td>0</td>\n",
       "      <td>3</td>\n",
       "      <td>0</td>\n",
       "      <td>24</td>\n",
       "    </tr>\n",
       "    <tr>\n",
       "      <th>Sarah Kliff</th>\n",
       "      <td>0</td>\n",
       "      <td>0</td>\n",
       "      <td>4</td>\n",
       "      <td>1</td>\n",
       "      <td>33</td>\n",
       "      <td>0</td>\n",
       "      <td>0</td>\n",
       "      <td>0</td>\n",
       "      <td>0</td>\n",
       "      <td>2</td>\n",
       "    </tr>\n",
       "    <tr>\n",
       "      <th>Timothy B. Lee</th>\n",
       "      <td>1</td>\n",
       "      <td>0</td>\n",
       "      <td>2</td>\n",
       "      <td>4</td>\n",
       "      <td>3</td>\n",
       "      <td>1</td>\n",
       "      <td>1</td>\n",
       "      <td>1</td>\n",
       "      <td>2</td>\n",
       "      <td>2</td>\n",
       "    </tr>\n",
       "  </tbody>\n",
       "</table>\n",
       "</div>"
      ],
      "text/plain": [
       "col_0             0   1   2   3   4  5  6  7  8   9\n",
       "author                                             \n",
       "Andrew Prokop     0   0   1  10   1  1  4  1  0  18\n",
       "Dara Lind         0   0   1  14   0  5  2  1  0   4\n",
       "Dylan Matthews    2   1   2   2   2  1  1  1  0  11\n",
       "Ezra Klein        0   0   1   1   7  0  0  4  0   3\n",
       "German Lopez      3   0   2   0  14  0  8  0  5   8\n",
       "Jonathan Allen    1   1   1   1   1  0  0  0  0  15\n",
       "Libby Nelson      1  11   1   0   6  0  1  0  0   5\n",
       "Matthew Yglesias  1   0  11   6   7  1  0  3  0  24\n",
       "Sarah Kliff       0   0   4   1  33  0  0  0  0   2\n",
       "Timothy B. Lee    1   0   2   4   3  1  1  1  2   2"
      ]
     },
     "execution_count": 63,
     "metadata": {},
     "output_type": "execute_result"
    }
   ],
   "source": [
    "# Get predicted clusters\n",
    "pd.crosstab(y_test, kmeans_pred) "
   ]
  },
  {
   "cell_type": "markdown",
   "metadata": {},
   "source": [
    "This clearly didn't work out as well for us with 10 clusters, but maybe there's a reason for that. I'll try an interesting range of cluster sizes and see how they perform."
   ]
  },
  {
   "cell_type": "code",
   "execution_count": 11,
   "metadata": {
    "scrolled": false
   },
   "outputs": [
    {
     "name": "stdout",
     "output_type": "stream",
     "text": [
      "The Adjusted Rand Index score using 4 clusters is : 0.06854323843426914\n",
      "The Adjusted Rand Index score using 5 clusters is : 0.12421069780848354\n",
      "The Adjusted Rand Index score using 8 clusters is : 0.13028772900253466\n",
      "The Adjusted Rand Index score using 9 clusters is : 0.12774493723116817\n",
      "The Adjusted Rand Index score using 11 clusters is : 0.14227973627165258\n",
      "The Adjusted Rand Index score using 12 clusters is : 0.1395839474711459\n",
      "The Adjusted Rand Index score using 14 clusters is : 0.1781061874137374\n",
      "The Adjusted Rand Index score using 15 clusters is : 0.20278719000640466\n",
      "The Adjusted Rand Index score using 20 clusters is : 0.24410451086524743\n"
     ]
    }
   ],
   "source": [
    "interesting_range = [4, 5, 8, 9, 11, 12, 14, 15, 20]\n",
    "\n",
    "for nx in interesting_range:\n",
    "    # Instantiate our clustering method\n",
    "    kmeans = KMeans(n_clusters = nx, n_init = 60)\n",
    "\n",
    "    # Fit the data\n",
    "    kmeans_model = kmeans.fit(X_train, y_train)\n",
    "\n",
    "    # Make predictions\n",
    "    kmeans_pred = kmeans_model.fit_predict(X_test, y_test)\n",
    "\n",
    "    # See how well it did\n",
    "    print(\"The Adjusted Rand Index score using {} clusters is : {}\".format(nx, metrics.adjusted_rand_score(y_test, kmeans_pred)))"
   ]
  },
  {
   "cell_type": "markdown",
   "metadata": {},
   "source": [
    "Looks like 15 and 20 clusters did well in comparison. Let's see what their contingency tables look like to get some insight."
   ]
  },
  {
   "cell_type": "code",
   "execution_count": 34,
   "metadata": {
    "scrolled": false
   },
   "outputs": [
    {
     "name": "stdout",
     "output_type": "stream",
     "text": [
      "The Contingency Table using 15 clusters:\n",
      "col_0             0   1   2   3   4   5   6   7   8   9   10  11  12  13  14\n",
      "author                                                                      \n",
      "Andrew Prokop      2   9   0   3   3   2   0   0   0   0   3   0   0   1   0\n",
      "Dara Lind          0   4   0   1   0   6   0   0   5   0   0   2   0   0   0\n",
      "Dylan Matthews     0   3   0   0   1   0   0   0   0   0   3   0   0   2   0\n",
      "Ezra Klein         0   2   0   3   1   0   0   1   0   2   2   0   0   2   0\n",
      "German Lopez       0   0   4   0   3   0   0   1   1   0   5   0   2   0   1\n",
      "Jonathan Allen     0  11   0   1   0   0   0   0   0   1   6   0   0   0   0\n",
      "Libby Nelson       0   2   0   0   0   2   7   0   2   1   0   0   0   1   0\n",
      "Matthew Yglesias   0   2   0   3   0   0   1   1   0   1   0   0   0   5   0\n",
      "Sarah Kliff        0   0   1   0   1   1   0  10   0   0   2   0   0   1   0\n",
      "Timothy B. Lee     0   2   0   0   0   0   0   0   1   3   1   0   2   0   1 \n",
      "\n",
      "The Contingency Table using 20 clusters:\n",
      "col_0             0   1   2   3   4   5   6   7   8   9   10  11  12  13  14  \\\n",
      "author                                                                         \n",
      "Andrew Prokop      1   0   3   4   1   0   0   4   0   1   0   2   1   0   0   \n",
      "Dara Lind          0  10   0   0   0   0   1   0   0   2   0   2   0   1   0   \n",
      "Dylan Matthews     0   0   1   2   0   0   1   1   0   1   0   0   0   0   2   \n",
      "Ezra Klein         0   0   5   0   0   0   0   0   0   0   3   2   0   0   1   \n",
      "German Lopez       1   0   0   0   1   4   0   3   2   2   0   0   0   2   2   \n",
      "Jonathan Allen     3   0   0   1   0   0   0   0   1   8   1   1   0   0   0   \n",
      "Libby Nelson       1   0   0   0   0   0   9   1   0   0   0   0   0   1   0   \n",
      "Matthew Yglesias   0   0   1   0   0   0   1   0   0   1   0   0   0   0   4   \n",
      "Sarah Kliff        0   0   7   0   3   1   0   0   1   0   0   0   0   0   1   \n",
      "Timothy B. Lee     0   0   0   0   0   1   0   0   0   3   3   0   1   2   0   \n",
      "\n",
      "col_0             15  16  17  18  19  \n",
      "author                                \n",
      "Andrew Prokop      2   2   2   0   0  \n",
      "Dara Lind          0   0   1   0   1  \n",
      "Dylan Matthews     0   0   1   0   0  \n",
      "Ezra Klein         0   0   0   0   2  \n",
      "German Lopez       0   0   0   0   0  \n",
      "Jonathan Allen     0   0   4   0   0  \n",
      "Libby Nelson       0   0   1   1   1  \n",
      "Matthew Yglesias   0   1   0   0   5  \n",
      "Sarah Kliff        0   0   0   3   0  \n",
      "Timothy B. Lee     0   0   0   0   0   \n",
      "\n"
     ]
    }
   ],
   "source": [
    "for nx in [15, 20]:\n",
    "    # Instantiate our clustering method\n",
    "    kmeans = KMeans(n_clusters = nx, n_init = 60)\n",
    "\n",
    "    # Fit the data\n",
    "    kmeans_model = kmeans.fit(X_train, y_train)\n",
    "\n",
    "    # Make predictions\n",
    "    kmeans_pred = kmeans_model.fit_predict(X_test, y_test)\n",
    "\n",
    "    # See how well it did\n",
    "    print(\"The Contingency Table using {} clusters:\".format(nx))\n",
    "    print(pd.crosstab(y_test, kmeans_pred), '\\n')"
   ]
  },
  {
   "cell_type": "markdown",
   "metadata": {},
   "source": [
    "These had varied results, however these groupings could still tell us something. For example, Libby Nelson consistently stands out. In the cluster of 10 she gets 11 articles in one group while there are only 2 other articles in that group (see column 2), with 15 clusters she almost got a whole cluster to herself with 7 articles (see column 6), and in the 20 cluster table she consisted of 9/13 articles in the 6th cluster. I also noticed that Dara Lind and Sarah Kliff were able to conquer a few clusters for themselves in each of our tests. It's possible that some people have pretty distinct styles of writing, while others tend to go with the safe and normal flow. Especially in this time of hyper political correctness, the editing process is probably quite restricting. However, unfortunately none of the chosen cluster sizes did all that much better than above. Maybe we should try and look at another model."
   ]
  },
  {
   "cell_type": "markdown",
   "metadata": {},
   "source": [
    "## Spectral Clustering Model\n",
    "\n",
    "As we can again provide the number of clusters we expect to spectral clustering, let's see how this algorithm performs with 10 groups. I tried multiple ngram_range values for the TfidfVectorizer, like above, but it didn't increase accuracy all that much and greatly increased time to run. As for the Spectral Clustering parameters themselves, I simply tried a range of combinations of the variables that you see and kept the rest at their defaults. I did this by running the 10 clusters over and over and keeping a separate spreadsheet where I recorded values and reran it. This allowed me to learn a bit about how each variable works. I didn't want to include all of the combinations in this report as it would just end up being really long, and uninformative for the experienced reader. This process is most likely less interesting than the actual results anyways, so let's dive in."
   ]
  },
  {
   "cell_type": "code",
   "execution_count": 74,
   "metadata": {},
   "outputs": [],
   "source": [
    "# Start a timer\n",
    "sc_start = time.time()\n",
    "\n",
    "# Instantiate our vectorizer, include bi-grams, and exclude useless stop words\n",
    "sc_vectorizer = TfidfVectorizer(ngram_range=(1, 2), stop_words='english')\n",
    "\n",
    "# Extract features from our dataset\n",
    "X_sc = sc_vectorizer.fit_transform(X)\n",
    "\n",
    "# Split our data up into 25/75 for training and testing\n",
    "X_train, X_test, y_train, y_test = train_test_split(X_sc, Y, test_size=0.25, random_state = 42)\n",
    "\n",
    "# Instantiate our clustering method\n",
    "spect_clust = SpectralClustering(n_clusters=10, eigen_solver = None, n_init = 10, assign_labels = 'discretize')\n",
    "\n",
    "# Fit the data\n",
    "sc_model = spect_clust.fit(X_train, y_train)"
   ]
  },
  {
   "cell_type": "code",
   "execution_count": 75,
   "metadata": {},
   "outputs": [
    {
     "name": "stdout",
     "output_type": "stream",
     "text": [
      "Adjusted Rand Index score: 0.1782984424287866\n",
      "The Spectral Clustering model took 1.7532403469085693 seconds\n"
     ]
    }
   ],
   "source": [
    "# Make predictions\n",
    "sc_pred = sc_model.fit_predict(X_test, y_test)\n",
    "\n",
    "# See how well it did\n",
    "print(\"Adjusted Rand Index score:\", metrics.adjusted_rand_score(y_test, sc_pred))\n",
    "print(\"The Spectral Clustering model took\", time.time() - sc_start, \"seconds\")"
   ]
  },
  {
   "cell_type": "markdown",
   "metadata": {},
   "source": [
    "That seems to not have done so well either. Well, let's take a look at how the clusters were predicted in this case."
   ]
  },
  {
   "cell_type": "code",
   "execution_count": 76,
   "metadata": {},
   "outputs": [
    {
     "data": {
      "text/html": [
       "<div>\n",
       "<style scoped>\n",
       "    .dataframe tbody tr th:only-of-type {\n",
       "        vertical-align: middle;\n",
       "    }\n",
       "\n",
       "    .dataframe tbody tr th {\n",
       "        vertical-align: top;\n",
       "    }\n",
       "\n",
       "    .dataframe thead th {\n",
       "        text-align: right;\n",
       "    }\n",
       "</style>\n",
       "<table border=\"1\" class=\"dataframe\">\n",
       "  <thead>\n",
       "    <tr style=\"text-align: right;\">\n",
       "      <th>col_0</th>\n",
       "      <th>0</th>\n",
       "      <th>1</th>\n",
       "      <th>2</th>\n",
       "      <th>3</th>\n",
       "      <th>4</th>\n",
       "      <th>5</th>\n",
       "      <th>6</th>\n",
       "      <th>7</th>\n",
       "      <th>8</th>\n",
       "      <th>9</th>\n",
       "    </tr>\n",
       "    <tr>\n",
       "      <th>author</th>\n",
       "      <th></th>\n",
       "      <th></th>\n",
       "      <th></th>\n",
       "      <th></th>\n",
       "      <th></th>\n",
       "      <th></th>\n",
       "      <th></th>\n",
       "      <th></th>\n",
       "      <th></th>\n",
       "      <th></th>\n",
       "    </tr>\n",
       "  </thead>\n",
       "  <tbody>\n",
       "    <tr>\n",
       "      <th>Andrew Prokop</th>\n",
       "      <td>8</td>\n",
       "      <td>2</td>\n",
       "      <td>0</td>\n",
       "      <td>2</td>\n",
       "      <td>0</td>\n",
       "      <td>0</td>\n",
       "      <td>10</td>\n",
       "      <td>1</td>\n",
       "      <td>0</td>\n",
       "      <td>0</td>\n",
       "    </tr>\n",
       "    <tr>\n",
       "      <th>Dara Lind</th>\n",
       "      <td>2</td>\n",
       "      <td>0</td>\n",
       "      <td>15</td>\n",
       "      <td>0</td>\n",
       "      <td>0</td>\n",
       "      <td>0</td>\n",
       "      <td>1</td>\n",
       "      <td>0</td>\n",
       "      <td>0</td>\n",
       "      <td>0</td>\n",
       "    </tr>\n",
       "    <tr>\n",
       "      <th>Dylan Matthews</th>\n",
       "      <td>2</td>\n",
       "      <td>2</td>\n",
       "      <td>1</td>\n",
       "      <td>0</td>\n",
       "      <td>0</td>\n",
       "      <td>0</td>\n",
       "      <td>3</td>\n",
       "      <td>1</td>\n",
       "      <td>0</td>\n",
       "      <td>0</td>\n",
       "    </tr>\n",
       "    <tr>\n",
       "      <th>Ezra Klein</th>\n",
       "      <td>3</td>\n",
       "      <td>1</td>\n",
       "      <td>1</td>\n",
       "      <td>0</td>\n",
       "      <td>0</td>\n",
       "      <td>0</td>\n",
       "      <td>3</td>\n",
       "      <td>3</td>\n",
       "      <td>2</td>\n",
       "      <td>0</td>\n",
       "    </tr>\n",
       "    <tr>\n",
       "      <th>German Lopez</th>\n",
       "      <td>0</td>\n",
       "      <td>3</td>\n",
       "      <td>0</td>\n",
       "      <td>0</td>\n",
       "      <td>0</td>\n",
       "      <td>2</td>\n",
       "      <td>6</td>\n",
       "      <td>1</td>\n",
       "      <td>0</td>\n",
       "      <td>5</td>\n",
       "    </tr>\n",
       "    <tr>\n",
       "      <th>Jonathan Allen</th>\n",
       "      <td>15</td>\n",
       "      <td>0</td>\n",
       "      <td>0</td>\n",
       "      <td>0</td>\n",
       "      <td>0</td>\n",
       "      <td>0</td>\n",
       "      <td>1</td>\n",
       "      <td>0</td>\n",
       "      <td>1</td>\n",
       "      <td>2</td>\n",
       "    </tr>\n",
       "    <tr>\n",
       "      <th>Libby Nelson</th>\n",
       "      <td>0</td>\n",
       "      <td>0</td>\n",
       "      <td>0</td>\n",
       "      <td>0</td>\n",
       "      <td>5</td>\n",
       "      <td>0</td>\n",
       "      <td>10</td>\n",
       "      <td>0</td>\n",
       "      <td>0</td>\n",
       "      <td>0</td>\n",
       "    </tr>\n",
       "    <tr>\n",
       "      <th>Matthew Yglesias</th>\n",
       "      <td>1</td>\n",
       "      <td>3</td>\n",
       "      <td>0</td>\n",
       "      <td>0</td>\n",
       "      <td>0</td>\n",
       "      <td>0</td>\n",
       "      <td>8</td>\n",
       "      <td>1</td>\n",
       "      <td>0</td>\n",
       "      <td>0</td>\n",
       "    </tr>\n",
       "    <tr>\n",
       "      <th>Sarah Kliff</th>\n",
       "      <td>0</td>\n",
       "      <td>1</td>\n",
       "      <td>0</td>\n",
       "      <td>0</td>\n",
       "      <td>0</td>\n",
       "      <td>0</td>\n",
       "      <td>5</td>\n",
       "      <td>10</td>\n",
       "      <td>0</td>\n",
       "      <td>0</td>\n",
       "    </tr>\n",
       "    <tr>\n",
       "      <th>Timothy B. Lee</th>\n",
       "      <td>2</td>\n",
       "      <td>0</td>\n",
       "      <td>0</td>\n",
       "      <td>0</td>\n",
       "      <td>0</td>\n",
       "      <td>1</td>\n",
       "      <td>4</td>\n",
       "      <td>0</td>\n",
       "      <td>3</td>\n",
       "      <td>0</td>\n",
       "    </tr>\n",
       "  </tbody>\n",
       "</table>\n",
       "</div>"
      ],
      "text/plain": [
       "col_0              0  1   2  3  4  5   6   7  8  9\n",
       "author                                            \n",
       "Andrew Prokop      8  2   0  2  0  0  10   1  0  0\n",
       "Dara Lind          2  0  15  0  0  0   1   0  0  0\n",
       "Dylan Matthews     2  2   1  0  0  0   3   1  0  0\n",
       "Ezra Klein         3  1   1  0  0  0   3   3  2  0\n",
       "German Lopez       0  3   0  0  0  2   6   1  0  5\n",
       "Jonathan Allen    15  0   0  0  0  0   1   0  1  2\n",
       "Libby Nelson       0  0   0  0  5  0  10   0  0  0\n",
       "Matthew Yglesias   1  3   0  0  0  0   8   1  0  0\n",
       "Sarah Kliff        0  1   0  0  0  0   5  10  0  0\n",
       "Timothy B. Lee     2  0   0  0  0  1   4   0  3  0"
      ]
     },
     "execution_count": 76,
     "metadata": {},
     "output_type": "execute_result"
    }
   ],
   "source": [
    "# Get predicted clusters\n",
    "pd.crosstab(y_test, sc_pred) "
   ]
  },
  {
   "cell_type": "markdown",
   "metadata": {},
   "source": [
    "Though this didn't do so well, it looks like Libby Nelson got a column to herself again (see column 4). Dara Lind and Sarah Kliff also seemed to get clustered quite well too. Let's try a range of clusters again like we did for K-Means, maybe we can find an ideal grouping or two to try that can give us further insight."
   ]
  },
  {
   "cell_type": "code",
   "execution_count": 16,
   "metadata": {},
   "outputs": [
    {
     "name": "stdout",
     "output_type": "stream",
     "text": [
      "The Adjusted Rand Index score using 4 clusters is : 0.11404203717117059\n",
      "The Adjusted Rand Index score using 5 clusters is : 0.11404203717117059\n",
      "The Adjusted Rand Index score using 8 clusters is : 0.11404203717117059\n",
      "The Adjusted Rand Index score using 9 clusters is : 0.11404203717117059\n",
      "The Adjusted Rand Index score using 11 clusters is : 0.11404203717117059\n",
      "The Adjusted Rand Index score using 12 clusters is : 0.11404203717117059\n",
      "The Adjusted Rand Index score using 14 clusters is : 0.11404203717117059\n",
      "The Adjusted Rand Index score using 15 clusters is : 0.11404203717117059\n",
      "The Adjusted Rand Index score using 20 clusters is : 0.11404203717117059\n"
     ]
    }
   ],
   "source": [
    "for nx in interesting_range:\n",
    "    # Instantiate our clustering method\n",
    "    spect_clust = SpectralClustering(n_clusters=nx, eigen_solver = None, n_init = 10, assign_labels = 'discretize')\n",
    "\n",
    "    # Fit the data\n",
    "    sc_model = spect_clust.fit(X_train, y_train)\n",
    "\n",
    "    # Make predictions\n",
    "    sc_pred = sc_model.fit_predict(X_test, y_test)\n",
    "\n",
    "    # See how well it did\n",
    "    sent = \"The Adjusted Rand Index score using {} clusters is : {}\"\n",
    "    print(sent.format(nx, metrics.adjusted_rand_score(y_test, kmeans_pred)))"
   ]
  },
  {
   "cell_type": "markdown",
   "metadata": {},
   "source": [
    "Well seeing as how these all got the same score for each of these cluster values, we probably won't get much more out of this model, let's try something else."
   ]
  },
  {
   "cell_type": "markdown",
   "metadata": {},
   "source": [
    "## Mean-Shift Model\n",
    "\n",
    "I decided to try a mean-shift model next because in theory it should work for this data, since the clusters aren't necessarily the same size. Since we don't need uniform sizes for the clusters, we can go back to the full data with > 1000 articles."
   ]
  },
  {
   "cell_type": "code",
   "execution_count": 17,
   "metadata": {},
   "outputs": [],
   "source": [
    "# Assign our feature column\n",
    "X = top10_df.body\n",
    "\n",
    "# Assign our target column\n",
    "Y = top10_df.author"
   ]
  },
  {
   "cell_type": "code",
   "execution_count": 18,
   "metadata": {},
   "outputs": [],
   "source": [
    "# Start a timer\n",
    "ms_start = time.time()\n",
    "\n",
    "# Instantiate our vectorizer, include bi-grams, and exclude useless stop words\n",
    "ms_vectorizer = TfidfVectorizer(ngram_range=(1, 2), stop_words='english')\n",
    "\n",
    "# Extract features from our dataset\n",
    "X_ms = ms_vectorizer.fit_transform(X)\n",
    "\n",
    "# Transform the sparse matrix of features into dense data so mean shift can use it\n",
    "F = FunctionTransformer(lambda x: x.todense(), validate=False)\n",
    "X_ms = F.transform(X_ms)\n",
    "\n",
    "# Split our data up into 25/75 for training and testing\n",
    "X_train, X_test, y_train, y_test = train_test_split(X_ms, Y, test_size=0.25, random_state = 42)\n",
    "\n",
    "# Instantiate our clustering method\n",
    "mean_shift = MeanShift(bin_seeding = True, cluster_all = False)\n",
    "\n",
    "# Fit the data\n",
    "ms_model = mean_shift.fit(X_train, y_train)"
   ]
  },
  {
   "cell_type": "code",
   "execution_count": 19,
   "metadata": {},
   "outputs": [
    {
     "name": "stdout",
     "output_type": "stream",
     "text": [
      "Adjusted Rand Index score: 0.0\n",
      "The Mean Shift model took 665.3452394008636 seconds\n"
     ]
    }
   ],
   "source": [
    "# Make predictions\n",
    "ms_pred = ms_model.fit_predict(X_test, y_test)\n",
    "\n",
    "# See how well it did\n",
    "print(\"Adjusted Rand Index score:\", metrics.adjusted_rand_score(y_test, ms_pred))\n",
    "print(\"The Mean Shift model took\", time.time() - ms_start, \"seconds\")"
   ]
  },
  {
   "cell_type": "markdown",
   "metadata": {},
   "source": [
    "Seeing as how this model got a 0 Adjusted Rand Index score, there isn't any point in looking at the contingency table. What this tells us is that, most likely we don't have a varied enough data set. Essentially, it put everyone in the same group. It would probably be helpful if we pooled articles from different websites about the same topics, or just got more articles in general. Regardless, it is a telling sign, so I decided to keep this model in this write up even though it does so poorly."
   ]
  },
  {
   "cell_type": "markdown",
   "metadata": {},
   "source": [
    "### Support Vector Classification"
   ]
  },
  {
   "cell_type": "markdown",
   "metadata": {},
   "source": [
    "Since we know for sure there should be 10 authors, we can try out a supervised learning model too. In my supervised learning capstone project, I had good recall and precision scores when using Support Vector Classification, so I'm going to try and see if I can guess the authors by their articles' contents. I will also be performing a Cross Validation search and a Pipeline in order to automate the steps that I was doing above, and to get the best parameters we can for this run. Let's dive in."
   ]
  },
  {
   "cell_type": "code",
   "execution_count": 89,
   "metadata": {},
   "outputs": [],
   "source": [
    "# Assign our feature column\n",
    "X = top10_df.body\n",
    "\n",
    "# Assign our target column\n",
    "Y = top10_df.author\n",
    "\n",
    "# Split up our training and testing data, 25/75\n",
    "X_train, X_test, y_train, y_test = train_test_split(X, Y, test_size=0.25, random_state=42)"
   ]
  },
  {
   "cell_type": "code",
   "execution_count": 90,
   "metadata": {},
   "outputs": [],
   "source": [
    "# Specify the distribution of parameters that we want to test\n",
    "svc_prm_dist = dict(\n",
    "    chi__k = [i for i in np.arange(100, 1_000, 100)],\n",
    "    clf__loss = ['hinge', 'squared_hinge'],\n",
    "    clf__C = [i for i in np.arange(0.1,1.1,0.1)],\n",
    "    clf__fit_intercept = [True, False],\n",
    "    clf__max_iter = [i for i in np.arange(8_500, 10_100, 100)]\n",
    "    )"
   ]
  },
  {
   "cell_type": "code",
   "execution_count": 91,
   "metadata": {},
   "outputs": [],
   "source": [
    "# Create a base pipeline that will take us through the modeling process\n",
    "svc_base_pipeline = Pipeline([\n",
    "    # Use TfidfVectorizer and ngram_range = (1,2) to choose 1 and/or 2 words at a time\n",
    "    ('vect', TfidfVectorizer(ngram_range=(1, 2), stop_words='english', sublinear_tf=True)),\n",
    "    \n",
    "    # Select the best features to train from using the chi squared algorithm\n",
    "    ('chi', SelectKBest(chi2)),\n",
    "    \n",
    "    # Choose our classifier algorithm\n",
    "    ('clf', LinearSVC(penalty = 'l2')) #'l2' is the standard in SVC\n",
    "])"
   ]
  },
  {
   "cell_type": "markdown",
   "metadata": {},
   "source": [
    "Now that we have a distribution of parameters that we want to try out, as well as a pipeline to push our work through, we can begin a cross validation search to find out best parameters. I chose a randomized search because it will be faster than doing a full grid search. NOTE: During this randomized search during some iterations the model is unable to converge and produces warnings, so I'm going to ignore any warnings just for this bit. The cross validation search does eventually converge and achieve what we need however so that's why it prints a warning instead of an error."
   ]
  },
  {
   "cell_type": "code",
   "execution_count": 92,
   "metadata": {},
   "outputs": [],
   "source": [
    "# Start a timer for the SVC's CV search\n",
    "svccv_start_time = time.time()\n",
    "\n",
    "# Temporarily blocks warnings\n",
    "warnings.filterwarnings(\"ignore\")\n",
    "\n",
    "# Set up the random search with our parameter distribution\n",
    "svc_rand_search = RandomizedSearchCV(svc_base_pipeline, svc_prm_dist, n_iter=20, cv=10, iid=False, verbose=0)\n",
    "\n",
    "# Fit the random search to our data\n",
    "svc_rand_search.fit(X_train, y_train)"
   ]
  },
  {
   "cell_type": "code",
   "execution_count": 93,
   "metadata": {},
   "outputs": [
    {
     "name": "stdout",
     "output_type": "stream",
     "text": [
      "{'clf__max_iter': 9200, 'clf__loss': 'squared_hinge', 'clf__fit_intercept': False, 'clf__C': 0.9, 'chi__k': 800}\n",
      "The SVC's CV search took 443.01765418052673 seconds\n"
     ]
    }
   ],
   "source": [
    "print(svc_rand_search.best_params_)\n",
    "print(\"The SVC's CV search took \" + str(time.time() - svccv_start_time) + \" seconds\")"
   ]
  },
  {
   "cell_type": "markdown",
   "metadata": {},
   "source": [
    "Now that we have found our optimal parameters and printed them out above, let's plug them into another pipeline and get some descriptive statistics about each author. We will achieve this by looking at a classification report."
   ]
  },
  {
   "cell_type": "code",
   "execution_count": 94,
   "metadata": {},
   "outputs": [],
   "source": [
    "# Assign our best parameters to variables to use in an updated pipeline\n",
    "svc_k = svc_rand_search.best_params_['chi__k']\n",
    "\n",
    "svc_loss = svc_rand_search.best_params_['clf__loss']\n",
    "svc_C = svc_rand_search.best_params_['clf__C']\n",
    "svc_fit_intercept = svc_rand_search.best_params_['clf__fit_intercept']\n",
    "svc_max_iter = svc_rand_search.best_params_['clf__max_iter']"
   ]
  },
  {
   "cell_type": "code",
   "execution_count": 95,
   "metadata": {},
   "outputs": [],
   "source": [
    "# Create a pipeline that will take us through the modeling process\n",
    "svc_pipeline = Pipeline([\n",
    "    # Use TfidfVectorizer and ngram_range = (1,2) to choose 1 and/or 2 words at a time\n",
    "    ('vect', TfidfVectorizer(ngram_range=(1, 2), stop_words='english', sublinear_tf=True)),\n",
    "    \n",
    "    # Select the best features to train from using the chi squared algorithm\n",
    "    ('chi', SelectKBest(chi2, k = svc_k)),\n",
    "    \n",
    "    # Choose our classifier algorithm\n",
    "    ('clf', LinearSVC(\n",
    "                    C = svc_C, \n",
    "                    penalty = 'l2', #'l2' is the standard in SVC \n",
    "                    max_iter = svc_max_iter,\n",
    "                    fit_intercept = svc_fit_intercept,\n",
    "                    loss = svc_loss\n",
    "                    ))\n",
    "])"
   ]
  },
  {
   "cell_type": "code",
   "execution_count": 101,
   "metadata": {},
   "outputs": [],
   "source": [
    "# Start a timer for the SVC model\n",
    "svc_start_time = time.time()\n",
    "\n",
    "# Now we can fit our model to use for predictions\n",
    "svc_model = svc_pipeline.fit(X_train, y_train)\n",
    "\n",
    "# Return warnings to normal\n",
    "warnings.filterwarnings(\"default\")"
   ]
  },
  {
   "cell_type": "code",
   "execution_count": 97,
   "metadata": {
    "scrolled": true
   },
   "outputs": [
    {
     "name": "stdout",
     "output_type": "stream",
     "text": [
      "The Support Vector Classification model's accuracy on the test set is: 0.5420875420875421\n",
      "The Support Vector Classification model took 2.680087089538574 seconds\n"
     ]
    }
   ],
   "source": [
    "# See how our model performs\n",
    "print(\"The Support Vector Classification model's accuracy on the test set is: \" + str(svc_model.score(X_test, y_test)))\n",
    "print(\"The Support Vector Classification model took \" + str(time.time() - svc_start_time) + \" seconds\")"
   ]
  },
  {
   "cell_type": "code",
   "execution_count": 98,
   "metadata": {
    "scrolled": true
   },
   "outputs": [
    {
     "name": "stdout",
     "output_type": "stream",
     "text": [
      "                  precision    recall  f1-score   support\n",
      "\n",
      "   Andrew Prokop       0.48      0.86      0.62       174\n",
      "       Dara Lind       0.75      0.71      0.73       103\n",
      "  Dylan Matthews       0.74      0.20      0.31       100\n",
      "      Ezra Klein       1.00      0.11      0.21        70\n",
      "    German Lopez       0.69      0.87      0.77       168\n",
      "  Jonathan Allen       0.82      0.23      0.36        61\n",
      "    Libby Nelson       0.71      0.85      0.77        96\n",
      "Matthew Yglesias       0.62      0.43      0.51       198\n",
      "     Sarah Kliff       0.67      0.90      0.77       142\n",
      "  Timothy B. Lee       0.74      0.67      0.71        73\n",
      "\n",
      "        accuracy                           0.64      1185\n",
      "       macro avg       0.72      0.58      0.57      1185\n",
      "    weighted avg       0.68      0.64      0.60      1185\n",
      "\n"
     ]
    }
   ],
   "source": [
    "y_svc_true = top10_df.author\n",
    "y_svc_pred = svc_model.predict(top10_df.body)\n",
    "\n",
    "print(classification_report(y_svc_true, y_svc_pred))"
   ]
  },
  {
   "cell_type": "markdown",
   "metadata": {},
   "source": [
    "This supervised model performed better than the unsupervised models specifically at predicting the authors accurately, but that's not entirely surprising. Supervised learning is a better method when you have a specified outcome, while unsupervised learning is better when you don't. For example, if we want to see patterns of behavior, we turn to unsupervised learning. In this example specifically, that's like saying I'm trying to understand different author's writing styles and how they are similar or different from each other's. I think in this way they still gave us some interesting outcomes. There were a few authors who seemed to stick out from the pack in terms of originality (i.e. getting clustered by themselves more often than others) in each of our unsupervised models, such as Libby Nelson, Sarah Kliff, and Dara Lind. Interestingly, our supervised learning model was also better at predicting these authors outright, giving them all f1-scores (i.e. a weighted version of precision and recall) above 70%. This indicates that they most likely do indeed have unique writing styles, at least as opposed to other authors in our data. Kudos to them and their careers.\n",
    "\n",
    "However, most of these authors did get clumped together most of the time, which could be due to multiple factors. The team at Vox mainly reside on one side of the political aisle (Democrats) as can be seen on rating websites when you look them up. Therefore it is likely that they are taking quite similar stances on issues even if different people are writing about the developments of new stories on different days. On top of this, during the editing process, other authors are probably striking out, or at least mitigating, any ideas or phrases that might not fly. This likely serves to make a more uniformed version of each article before it is officially released, thus stripping it of some of its originality. Another issue is that the amount of data being used was relatively small. If I had looked at more categories, or if I could have scraped more articles by each of these authors myself, this could have helped to boost our ending scores. If I were to do this sort of project over again, I would try and include multiple sites, and I would increase the total number of articles quite a bit."
   ]
  }
 ],
 "metadata": {
  "kernelspec": {
   "display_name": "Python 3",
   "language": "python",
   "name": "python3"
  },
  "language_info": {
   "codemirror_mode": {
    "name": "ipython",
    "version": 3
   },
   "file_extension": ".py",
   "mimetype": "text/x-python",
   "name": "python",
   "nbconvert_exporter": "python",
   "pygments_lexer": "ipython3",
   "version": "3.6.2"
  }
 },
 "nbformat": 4,
 "nbformat_minor": 2
}
